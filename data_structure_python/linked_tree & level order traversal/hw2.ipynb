{
 "cells": [
  {
   "cell_type": "code",
   "execution_count": 13,
   "id": "68e22ff7-35b9-4d83-a58e-74ac09cf7aa7",
   "metadata": {
    "tags": []
   },
   "outputs": [],
   "source": [
    "from linked_tree import LinkedTree"
   ]
  },
  {
   "cell_type": "markdown",
   "id": "10df91d1-e572-4b2f-b76b-75c586f205a3",
   "metadata": {
    "tags": []
   },
   "source": [
    "# HW 2-1. Complete the linked tree implementation. (5p)\n",
    "\n",
    "In the `linked_tree.py`, complete these methods:\n",
    " - `_add_root(self, e)`\n",
    " - `_add_child(self, p, e)`\n",
    " - `_replace(self, p, e)` \n",
    " - `_delete(self, p)`\n",
    " \n",
    "Look at the comments for each method to how each method should work."
   ]
  },
  {
   "cell_type": "code",
   "execution_count": 14,
   "id": "33531e83-284f-416d-96e4-718e6e2ae22d",
   "metadata": {
    "tags": []
   },
   "outputs": [
    {
     "name": "stdout",
     "output_type": "stream",
     "text": [
      "Test case 1: Add root\n",
      "Root: A\n",
      "\n",
      "Test case 2: Add children\n",
      "Children of A: ['B', 'C', 'D']\n",
      "\n",
      "Test case 3: Replace element\n",
      "New element at B's position: B_new\n",
      "Now Children of A: ['B_new', 'C', 'D']\n"
     ]
    }
   ],
   "source": [
    "# Example test cases to verify your implementation\n",
    "T = LinkedTree()\n",
    "\n",
    "# Test case 1: Test _add_root functionality\n",
    "print(\"Test case 1: Add root\")\n",
    "root = T._add_root('A')\n",
    "print(f\"Root: {root.element()}\")  # Output: Root: A\n",
    "\n",
    "# Test case 2: Test _add_child functionality\n",
    "print(\"\\nTest case 2: Add children\")\n",
    "b = T._add_child(root, 'B')\n",
    "c = T._add_child(root, 'C')\n",
    "d = T._add_child(root, 'D')\n",
    "\n",
    "# Output: Children of A: ['B', 'C', 'D']\n",
    "print(f\"Children of A: {[child.element() for child in T.children(root)]}\")\n",
    "\n",
    "# Test case 3: Test _replace functionality\n",
    "print(\"\\nTest case 3: Replace element\")\n",
    "T._replace(b, 'B_new')\n",
    "print(f\"New element at B's position: {b.element()}\")  # Output: New element at B's position: B_new\n",
    "print(f\"Now Children of A: {[child.element() for child in T.children(root)]}\")"
   ]
  },
  {
   "cell_type": "markdown",
   "id": "dd737b6b-92c0-415f-be74-5c2bee0b207f",
   "metadata": {
    "tags": []
   },
   "source": [
    "# HW 2-2. Level-order traversal of a tree (5p)\n",
    "\n",
    "You will implement a level-order traversal of a tree. Your goal is to create a function that, given a tree, visits each node in the order corresponding to their level in the tree, from left to right.\n",
    "\n",
    "## Background\n",
    "Level-order traversal, also known as breadth-first traversal, is a tree traversal method where nodes are visited level by level, moving from left to right at each level. This traversal method can be useful when you need to process nodes in a specific order or when you want to find the shortest path to a specific node in the tree.\n",
    "\n",
    "## Instructions\n",
    "- Implement a method called levelorder() in the Tree class that generates a level-order iteration of positions in the tree. The running time of this level-order traversal should be O(n), where *n* is the number of items in the tree.\n",
    "\n",
    "\n",
    "Hints:\n",
    "Consider using a queue as a substructure. Start by enqueuing the root of the tree.\n",
    "\n",
    "For a tree with the following structure:\n",
    "```mathematica\n",
    "    A\n",
    "   /|\\\n",
    "  B C D\n",
    " /|   |\\\n",
    "E F   G H\n",
    "```\n",
    "\n",
    "Your level_order_traversal function should return the following list: ['A', 'B', 'C', 'D', 'E', 'F', 'G', 'H'].\n"
   ]
  },
  {
   "cell_type": "code",
   "execution_count": 17,
   "id": "8bd60231-5aeb-4280-b5a4-4458a3aa2bb0",
   "metadata": {
    "tags": []
   },
   "outputs": [],
   "source": [
    "T = LinkedTree()"
   ]
  },
  {
   "cell_type": "code",
   "execution_count": 18,
   "id": "6f7a14dc-f3ef-4bc8-a340-fe859581d44d",
   "metadata": {
    "tags": []
   },
   "outputs": [
    {
     "data": {
      "text/plain": [
       "<linked_tree.LinkedTree.Position at 0x158a6e7a130>"
      ]
     },
     "execution_count": 18,
     "metadata": {},
     "output_type": "execute_result"
    }
   ],
   "source": [
    "# Example tree construction\n",
    "\n",
    "root = T._add_root('A')\n",
    "b = T._add_child(root, 'B')\n",
    "c = T._add_child(root, 'C')\n",
    "d = T._add_child(root, 'D')\n",
    "\n",
    "T._add_child(b, 'B1')\n",
    "T._add_child(b, 'B2')\n",
    "\n",
    "c1 = T._add_child(c, 'C1')\n",
    "\n",
    "T._add_child(d, 'D1')\n",
    "T._add_child(d, 'D2')\n",
    "T._add_child(d, 'D3')\n",
    "\n",
    "T._add_child(c1, \"C11\")\n",
    "T._add_child(c1, \"C12\")\n",
    "T._add_child(c1, \"C13\")"
   ]
  },
  {
   "cell_type": "code",
   "execution_count": 19,
   "id": "a70899e8-5737-4771-ab70-1312367883c7",
   "metadata": {
    "tags": []
   },
   "outputs": [
    {
     "name": "stdout",
     "output_type": "stream",
     "text": [
      "A\n",
      "B\n",
      "C\n",
      "D\n",
      "B1\n",
      "B2\n",
      "C1\n",
      "D1\n",
      "D2\n",
      "D3\n",
      "C11\n",
      "C12\n",
      "C13\n"
     ]
    }
   ],
   "source": [
    "for node in T.levelorder():\n",
    "    print(node.element())"
   ]
  },
  {
   "cell_type": "code",
   "execution_count": 20,
   "id": "35ae6b1f-810f-4efc-b0ca-936be71c97b8",
   "metadata": {
    "tags": []
   },
   "outputs": [
    {
     "name": "stdout",
     "output_type": "stream",
     "text": [
      "A\n",
      "B\n",
      "B1\n",
      "B2\n",
      "C\n",
      "C1\n",
      "C11\n",
      "C12\n",
      "C13\n",
      "D\n",
      "D1\n",
      "D2\n",
      "D3\n"
     ]
    }
   ],
   "source": [
    "# this block is not related to the homework. just for your fun\n",
    "for node in T.preorder():\n",
    "    print(node.element())"
   ]
  },
  {
   "cell_type": "code",
   "execution_count": 21,
   "id": "6e6ab8e6-1ce8-47b2-a7b0-c79e8db81f97",
   "metadata": {
    "tags": []
   },
   "outputs": [
    {
     "name": "stdout",
     "output_type": "stream",
     "text": [
      "B1\n",
      "B2\n",
      "B\n",
      "C11\n",
      "C12\n",
      "C13\n",
      "C1\n",
      "C\n",
      "D1\n",
      "D2\n",
      "D3\n",
      "D\n",
      "A\n"
     ]
    }
   ],
   "source": [
    "# this block is not related to the homework. just for your fun\n",
    "for node in T.postorder():\n",
    "    print(node.element())"
   ]
  },
  {
   "cell_type": "markdown",
   "id": "9c47c2a9-0718-4c8b-9fc9-d73af224e55a",
   "metadata": {},
   "source": [
    "# HW 2-3. Commenting (5p)\n",
    "\n",
    "Commenting your code is an essential part of good programming practices. Well-documented code is easier to understand, maintain, and debug. It allows you, your teammates, and future developers to quickly grasp the purpose, functionality, and behavior of your code. Comments help ensure that your code remains usable and maintainable, even as the project evolves or new developers join the team.\n",
    "\n",
    "In this homework, you are expected to provide detailed comments for all methods in tree.py and linked_tree.py. This exercise will help you to develop good commenting habits and improve your ability to communicate the purpose and functionality of your code to others.\n",
    "\n",
    "## Instructions\n",
    "1. For each method in the tree.py and linked_tree.py files, add a comment block and inline comments, as necessary, to clearly explain the purpose, functionality, input parameters, and return values of the method.\n",
    "2. Ensure that your comments are concise, clear, and easy to understand.\n",
    "3. The level of detail in your comments should be similar to the example provided below.\n",
    "\n",
    "```python\n",
    "\"\"\"\n",
    "Initialize a new node object with the given element, parent, and children.\n",
    "\n",
    ":param element: The element to be stored in the node\n",
    ":param parent: A reference to the parent node (default: None)\n",
    ":param children: A list of references to the children nodes (default: None)\n",
    "\"\"\"\n",
    "def __init__(self, element, parent=None, children=None):\n",
    "    self._element = element  # The element of this node\n",
    "    self._parent = parent  # A reference to the parent node\n",
    "\n",
    "    # If 'children' is None, initialize an empty list for children nodes;\n",
    "    # otherwise, use the provided list of children nodes\n",
    "    if children is None:\n",
    "        self._children = []\n",
    "    else:\n",
    "        self._children = children  # List of references to children nodes\n",
    "\n",
    "```"
   ]
  },
  {
   "cell_type": "markdown",
   "id": "bf8fcd51-56a6-408a-9266-3c4fa9966ad7",
   "metadata": {
    "tags": []
   },
   "source": [
    "# HW 2-4. Test cases (max 5p, 1p per your own test)\n",
    "\n",
    "In this notebook file, write your own test cases to test your implementation with various tree structures and various examples to ensure its correctness.\n",
    "\n",
    "(you can add more if you want)"
   ]
  },
  {
   "cell_type": "code",
   "execution_count": 23,
   "id": "01ef3e70-f7b9-4cb0-8688-83241ada4ba3",
   "metadata": {
    "tags": []
   },
   "outputs": [
    {
     "name": "stdout",
     "output_type": "stream",
     "text": [
      "1\n",
      "2\n",
      "3\n",
      "4\n",
      "2.1\n",
      "2.2\n",
      "3.1\n",
      "3.2\n",
      "3.3\n",
      "4.1\n",
      "4.2\n",
      "4.3\n",
      "4.4\n"
     ]
    },
    {
     "data": {
      "text/plain": [
       "'\\n1\\n2\\n3\\n4\\n2.1\\n2.2\\n3.1\\n3.2\\n3.3\\n4.1\\n4.2\\n4.3\\n4.4\\n'"
      ]
     },
     "execution_count": 23,
     "metadata": {},
     "output_type": "execute_result"
    }
   ],
   "source": [
    "# Test 1\n",
    "\n",
    "\n",
    "#다음과 같이 규칙성이 망가진 트리가 있다고 가정하자. 원래 이 트리는 각각 1 값을 가진 root를 제외하고, 그 아래 부모들의 자식 수가 자신의 원소값과 같으면서, \n",
    "# 자식들의 원소값이 n.p 형태로 나오는데, 여기서 n은 부모의 원소값, p는 자식이 몇 번째인지를 담아야만 한다. \n",
    "\n",
    "T = LinkedTree()\n",
    "first = T._add_root('1')\n",
    "second = T._add_child(first, '2')\n",
    "third = T._add_child(first, '3')\n",
    "fourth = T._add_child(first, '4')\n",
    "\n",
    "second_first = T._add_child(second, '2.0')\n",
    "second_second = T._add_child(second, '2.2')\n",
    "\n",
    "third_first = T._add_child(third, '3.1')\n",
    "third_second = T._add_child(third, '3.7')\n",
    "third_third = T._add_child(third, '3.3')\n",
    "\n",
    "fourth_first = T._add_child(fourth, '4.1')\n",
    "fourth_second = T._add_child(fourth, '4.2')\n",
    "fourth_third = T._add_child(fourth, '4.3')\n",
    "fourth_fourth = T._add_child(fourth, '4.4')\n",
    "fourth_have_to_delete = T._add_child(fourth, '4.5')\n",
    "\n",
    "#이 트리에서, 규칙성을 맞추려면, second_first 값을 2.1로 교체하고, third_second 값을 3.2로 교체하고, fourth_have_to_delete를 삭제해야만 한다.\n",
    "\n",
    "T._replace(second_first, '2.1')\n",
    "T._replace(third_second, '3.2')\n",
    "T._delete(fourth_have_to_delete)\n",
    "\n",
    "\n",
    "#그리고 이 값을 levelorder 방식으로 서술하여 잘 바뀌었는지 보겠다.\n",
    "for node in T.levelorder():\n",
    "    print(node.element())\n",
    "    \n",
    "# Write your test case setup and results\n",
    "# 테스트의 목적: _add_child, _replace, _delete 메서드가 정상작동하는지에 대해서 levelorder 방식으로 체크한다.\n",
    "# 테스트에서 기대되는 결과값:\n",
    "\"\"\"\n",
    "1\n",
    "2\n",
    "3\n",
    "4\n",
    "2.1\n",
    "2.2\n",
    "3.1\n",
    "3.2\n",
    "3.3\n",
    "4.1\n",
    "4.2\n",
    "4.3\n",
    "4.4\n",
    "\"\"\""
   ]
  },
  {
   "cell_type": "code",
   "execution_count": 26,
   "id": "8998bc0c-1cc4-4f65-a78b-ee5b8e641cc8",
   "metadata": {},
   "outputs": [
    {
     "name": "stdout",
     "output_type": "stream",
     "text": [
      "동물원\n",
      "파충류\n",
      "도마뱀\n",
      "뱀\n",
      "악어\n",
      "포유류\n",
      "너구리\n",
      "여우\n",
      "호랑이\n",
      "사자\n",
      "\n",
      "\n",
      "바뀐 후\n",
      "\n",
      "동물원\n",
      "파충류\n",
      "도마뱀\n",
      "뱀\n",
      "악어\n",
      "포유류\n",
      "너구리\n",
      "여우\n",
      "호랑이\n",
      "사자\n",
      "조류\n",
      "앵무새\n",
      "공작새\n"
     ]
    },
    {
     "data": {
      "text/plain": [
       "'\\n동물원\\n파충류\\n도마뱀\\n뱀\\n악어\\n포유류\\n너구리\\n여우\\n호랑이\\n사자\\n\\n\\n바뀐 후\\n\\n동물원\\n파충류\\n도마뱀\\n뱀\\n악어\\n포유류\\n너구리\\n여우\\n호랑이\\n사자\\n조류\\n앵무새\\n공작새\\n'"
      ]
     },
     "execution_count": 26,
     "metadata": {},
     "output_type": "execute_result"
    }
   ],
   "source": [
    "# Test 2\n",
    "#동물원에는, 파충류, 포유류가 존재하였다.\n",
    "#파충류에는 도마뱀, 뱀, 악어가 있었고, 포유류에는 너구리, 여우, 호랑이, 사자가 있었다.\n",
    "#그렇게 동물원 동물 리스트를 보여 주었었는데, 어느 날, 조류가 들어오게 된다.\n",
    "#조류는 앵무새, 공작새가 있다. 이럴 때, 이전 동물 리스트와, 지금 동물 리스트를 만들어보라\n",
    "T = LinkedTree()\n",
    "zoo = T._add_root('동물원')\n",
    "reptile = T._add_child(zoo, '파충류')\n",
    "mammal = T._add_child(zoo, '포유류')\n",
    "\n",
    "T._add_child(reptile, '도마뱀')\n",
    "T._add_child(reptile, '뱀')\n",
    "T._add_child(reptile, '악어')\n",
    "\n",
    "T._add_child(mammal, '너구리')\n",
    "T._add_child(mammal, '여우')\n",
    "T._add_child(mammal, '호랑이')\n",
    "T._add_child(mammal, '사자')\n",
    "\n",
    "for node in T.preorder():\n",
    "    print(node.element())\n",
    "\n",
    "print(\"\\n\")\n",
    "print(\"바뀐 후\\n\")\n",
    "    \n",
    "bird = T._add_child(zoo,'조류')\n",
    "\n",
    "T._add_child(bird, '앵무새')\n",
    "T._add_child(bird, '공작새')\n",
    "\n",
    "for node in T.preorder():\n",
    "    print(node.element())\n",
    "\n",
    "\n",
    "# Write your test case setup and results\n",
    "# 테스트의 목적: preorder로 상위 종 개념 아래에 동물들을 나열한 형태로 나타낼 수 있는지 확인하고, 그 상태로 새로운 종을 add하고 다시 preorder를 취했을 때, 정상적으로 작동하는지 볼 것이다. \n",
    "# 테스트에서 기대되는 결과값: \n",
    "\"\"\"\n",
    "동물원\n",
    "파충류\n",
    "도마뱀\n",
    "뱀\n",
    "악어\n",
    "포유류\n",
    "너구리\n",
    "여우\n",
    "호랑이\n",
    "사자\n",
    "\n",
    "\n",
    "바뀐 후\n",
    "\n",
    "동물원\n",
    "파충류\n",
    "도마뱀\n",
    "뱀\n",
    "악어\n",
    "포유류\n",
    "너구리\n",
    "여우\n",
    "호랑이\n",
    "사자\n",
    "조류\n",
    "앵무새\n",
    "공작새\n",
    "\"\"\""
   ]
  },
  {
   "cell_type": "code",
   "execution_count": 28,
   "id": "5bf0d2a5-1732-4043-ae7d-dd8268eedcd3",
   "metadata": {
    "tags": []
   },
   "outputs": [
    {
     "name": "stdout",
     "output_type": "stream",
     "text": [
      "Sia 조 :  3 명\n",
      "아이유 조 :  2 명\n",
      "태연 조 :  3 명\n",
      "\n",
      " 바뀌고 난 후 \n",
      "\n",
      "Sia 조 :  2 명\n",
      "아이유 조 :  2 명\n",
      "태연 조 :  2 명\n",
      "교실에 있는 사람들\n",
      "교수님\n",
      "Sia TA\n",
      "태연 TA\n",
      "아이유 TA\n",
      "이새롬\n",
      "박지원\n",
      "노지선\n",
      "이서연\n",
      "이채영\n",
      "이나경\n"
     ]
    },
    {
     "data": {
      "text/plain": [
       "'\\nSia 조 :  3 명\\n아이유 조 :  2 명\\n태연 조 :  3 명\\n\\n 바뀌고 난 후 \\n\\nSia 조 :  2 명\\n아이유 조 :  2 명\\n태연 조 :  2 명\\n교실에 있는 사람들\\n교수님\\nSiaTA\\n태연TA\\n아이유TA\\n이새롬\\n박지원\\n노지선\\n이서연\\n이채영\\n이나경\\n'"
      ]
     },
     "execution_count": 28,
     "metadata": {},
     "output_type": "execute_result"
    }
   ],
   "source": [
    "# Test 3\n",
    "# 임의의 교수님이 존재한다고 가정하고, 그 TA들과, TA들이 맡고 있는 조의 학생들을 나열하려고 하는데, 이 때, 교과목을 drop하는 학생들이 있다고 가정한다.\n",
    "# 그리고 그 drop하고 나서, 각 조에 몇 명이 존재하는지에 대해서 조사하고, levelorder 방식으로 모든 사람들 이름을 불러와서, 교수님, TA, 학생들이 나눠져 보이도록 해보자.\n",
    "T = LinkedTree()\n",
    "professor = T._add_root('교수님')\n",
    "TA_one = T._add_child(professor, 'Sia TA')\n",
    "TA_two = T._add_child(professor, '태연 TA')\n",
    "TA_three = T._add_child(professor, '아이유 TA')\n",
    "\n",
    "student_one = T._add_child(TA_one, '이새롬')\n",
    "student_two = T._add_child(TA_one, '송하영')\n",
    "student_three = T._add_child(TA_one, '박지원')\n",
    "\n",
    "student_four = T._add_child(TA_two, '노지선')\n",
    "student_five = T._add_child(TA_two, '이서연')\n",
    "\n",
    "student_six = T._add_child(TA_three, '이채영')\n",
    "student_seven = T._add_child(TA_three, '이나경')\n",
    "student_eight = T._add_child(TA_three, '백지헌')\n",
    "\n",
    "#drop하기 전, 몇 명인지 알아보자\n",
    "print(\"Sia 조 : \" ,T.num_children(TA_one),\"명\")\n",
    "print(\"아이유 조 : \" , T.num_children(TA_two) , \"명\")\n",
    "print(\"태연 조 : \" , T.num_children(TA_three) , \"명\")\n",
    "\n",
    "#여기서 송하영과 백지헌이 drop하였다.\n",
    "\n",
    "T._delete(student_two)\n",
    "T._delete(student_eight)\n",
    "\n",
    "#이제 조당 각각 몇 명인지 조사하자\n",
    "print(\"\\n 바뀌고 난 후 \\n\")\n",
    "print(\"Sia 조 : \" ,T.num_children(TA_one),\"명\")\n",
    "print(\"아이유 조 : \" , T.num_children(TA_two) , \"명\")\n",
    "print(\"태연 조 : \" , T.num_children(TA_three) , \"명\")\n",
    "print(\"교실에 있는 사람들\")\n",
    "\n",
    "for node in T.levelorder():\n",
    "    print(node.element())\n",
    "\n",
    "# Write your test case setup and results\n",
    "# 테스트의 목적: num_children을 사용하여서, 부모의 자식 노드가 몇 개가 있는지를 파악하는 테스트이다. 또한, 그 자식들을 _delete 했을 때, 값이 그것에 맞게 변화하는지 보기 위한 테스트이다.\n",
    "# 테스트에서 기대되는 결과값: \n",
    "\"\"\"\n",
    "Sia 조 :  3 명\n",
    "아이유 조 :  2 명\n",
    "태연 조 :  3 명\n",
    "\n",
    " 바뀌고 난 후 \n",
    "\n",
    "Sia 조 :  2 명\n",
    "아이유 조 :  2 명\n",
    "태연 조 :  2 명\n",
    "교실에 있는 사람들\n",
    "교수님\n",
    "SiaTA\n",
    "태연TA\n",
    "아이유TA\n",
    "이새롬\n",
    "박지원\n",
    "노지선\n",
    "이서연\n",
    "이채영\n",
    "이나경\n",
    "\"\"\""
   ]
  },
  {
   "cell_type": "code",
   "execution_count": 29,
   "id": "e9a761da-be43-49df-8b10-3186c87360a6",
   "metadata": {
    "tags": []
   },
   "outputs": [
    {
     "name": "stdout",
     "output_type": "stream",
     "text": [
      "일병 박민석  행정반에 용무 있어 왔습니다!\n",
      "일병 임다혜  행정반에 용무 있어 왔습니다!\n",
      "일병 성윤모  행정반에 용무 있어 왔습니다!\n",
      "일병 윤태형  행정반에 용무 있어 왔습니다!\n",
      "일병 정상민  행정반에 용무 있어 왔습니다!\n",
      "일병 김승태  행정반에 용무 있어 왔습니다!\n",
      "너네 생활관 최선임자도 불러와\n",
      "병장 심진우  왜 부르셨슴까?\n"
     ]
    },
    {
     "data": {
      "text/plain": [
       "'\\n일병 박민석  행정반에 용무 있어 왔습니다!\\n일병 임다혜  행정반에 용무 있어 왔습니다!\\n일병 성윤모  행정반에 용무 있어 왔습니다!\\n일병 윤태형  행정반에 용무 있어 왔습니다!\\n일병 정상민  행정반에 용무 있어 왔습니다!\\n일병 김승태  행정반에 용무 있어 왔습니다!\\n너네 생활관 최선임자도 불러와\\n병장 심진우  왜 부르셨슴까?\\n'"
      ]
     },
     "execution_count": 29,
     "metadata": {},
     "output_type": "execute_result"
    }
   ],
   "source": [
    "# Test 4\n",
    "# 병장 1명 밑에 상병 2명, 일병 6명인 1생활관이 있다. 상병들은 각각 전우조 일병 3명씩을 담당하고 있다. \n",
    "# 어느 날, 행정반에서 1생활관 일병들을 모두 집합시켰다. 그러면 행정반에는 어떤 소리가 들릴까?\n",
    "# 단, 여기서 병장 - 상병 - 일병 순으로 높고, 각각 자식과 부모 관계가 트리에서 적용된다고 가정한다. 그리고 일병이 말단이라고 하자.\n",
    "# 그리고, 그 후, 최선임자도 불렀다고 가정하자.\n",
    "T = LinkedTree()\n",
    "sergent = T._add_root('병장 심진우')\n",
    "corporal_one = T._add_child(sergent, '상병 최일구')\n",
    "corporal_two = T._add_child(sergent, '상병 김상훈')\n",
    "\n",
    "private_one = T._add_child(corporal_one, '일병 박민석')\n",
    "private_two = T._add_child(corporal_one, '일병 임다혜')\n",
    "private_three = T._add_child(corporal_one, '일병 성윤모')\n",
    "\n",
    "private_four = T._add_child(corporal_two, '일병 윤태형')\n",
    "private_five = T._add_child(corporal_two,'일병 정상민')\n",
    "private_six = T._add_child(corporal_two, '일병 김승태')\n",
    "\n",
    "#행정반에 모인 후\n",
    "for node in T.preorder():\n",
    "    if T.is_leaf(node):\n",
    "        print(node.element(), \" 행정반에 용무 있어 왔습니다!\")\n",
    "    else:\n",
    "        continue\n",
    "    \n",
    "print(\"너네 생활관 최선임자도 불러와\")\n",
    "\n",
    "for node in T.preorder():\n",
    "    if T.is_root(node):\n",
    "        print(node.element(), \" 왜 부르셨슴까?\")\n",
    "    else:\n",
    "        continue\n",
    "\n",
    "# Write your test case setup and results\n",
    "# 테스트의 목적: is_leaf와 is_root를 사용하여서, 가장 높은 root와 가장 낮은 leaf를 preorder의 node형태로 tree 전체에서 특정지어 뽑아, 정상 작동하는지 알아보려 하였다.\n",
    "# 테스트에서 기대되는 결과값: \n",
    "\"\"\"\n",
    "일병 박민석  행정반에 용무 있어 왔습니다!\n",
    "일병 임다혜  행정반에 용무 있어 왔습니다!\n",
    "일병 성윤모  행정반에 용무 있어 왔습니다!\n",
    "일병 윤태형  행정반에 용무 있어 왔습니다!\n",
    "일병 정상민  행정반에 용무 있어 왔습니다!\n",
    "일병 김승태  행정반에 용무 있어 왔습니다!\n",
    "너네 생활관 최선임자도 불러와\n",
    "병장 심진우  왜 부르셨슴까?\n",
    "\"\"\""
   ]
  },
  {
   "cell_type": "code",
   "execution_count": 30,
   "id": "1b4d5d26-b345-473e-af4f-7bbc3c8b60bd",
   "metadata": {
    "tags": []
   },
   "outputs": [
    {
     "name": "stdout",
     "output_type": "stream",
     "text": [
      "삐빅,  손정래 님은 파티에 참여하실 수 없습니다.\n",
      "삐빅,  진성준 님은 파티에 참여하실 수 없습니다.\n",
      "삐빅,  모현민 님은 파티에 참여하실 수 없습니다.\n",
      "삐빅,  진영기 부회장 님 파티에 오신 것을 환영합니다.\n",
      "삐빅,  유지나 님은 파티에 참여하실 수 없습니다.\n",
      "삐빅,  진예준 님은 파티에 참여하실 수 없습니다.\n",
      "삐빅,  진동기 사장 님 파티에 오신 것을 환영합니다.\n",
      "삐빅,  진양철 전회장 님 파티에 오신 것을 환영합니다.\n",
      "삐빅,  최창제 님은 파티에 참여하실 수 없습니다.\n",
      "삐빅,  진화영 대표 님 파티에 오신 것을 환영합니다.\n",
      "삐빅,  이해인 님은 파티에 참여하실 수 없습니다.\n",
      "삐빅,  진형준 님은 파티에 참여하실 수 없습니다.\n",
      "삐빅,  진윤기 서자  님 파티에 오신 것을 환영합니다.\n",
      "삐빅,  이필옥 여사 님 파티에 오신 것을 환영합니다.\n",
      "삐빅,  진도준 회장 님 파티에 오신 것을 환영합니다.\n"
     ]
    },
    {
     "data": {
      "text/plain": [
       "'\\n삐빅,  손정래 님은 파티에 참여하실 수 없습니다.\\n삐빅,  진성준 님은 파티에 참여하실 수 없습니다.\\n삐빅,  모현민 님은 파티에 참여하실 수 없습니다.\\n삐빅,  진영기 부회장 님 파티에 오신 것을 환영합니다.\\n삐빅,  유지나 님은 파티에 참여하실 수 없습니다.\\n삐빅,  진예준 님은 파티에 참여하실 수 없습니다.\\n삐빅,  진동기 사장 님 파티에 오신 것을 환영합니다.\\n삐빅,  진양철 전회장 님 파티에 오신 것을 환영합니다.\\n삐빅,  최창제 님은 파티에 참여하실 수 없습니다.\\n삐빅,  진화영 대표 님 파티에 오신 것을 환영합니다.\\n삐빅,  이해인 님은 파티에 참여하실 수 없습니다.\\n삐빅,  진형준 님은 파티에 참여하실 수 없습니다.\\n삐빅,  진윤기 서자  님 파티에 오신 것을 환영합니다.\\n삐빅,  이필옥 여사 님 파티에 오신 것을 환영합니다.\\n삐빅,  진도준 회장 님 파티에 오신 것을 환영합니다.\\n'"
      ]
     },
     "execution_count": 30,
     "metadata": {},
     "output_type": "execute_result"
    }
   ],
   "source": [
    "# Test 5\n",
    "# 순양물산이라는 곳에 private 파티가 열렸다. 거기에는 VIP들이 초대받았는데, 적어도 VIP등급이 GOLD 이상이어야만 들어갈 수 있었다.\n",
    "# 그들은 카드키를 들고 있었고, 그 카드키를 단말기에 찍었을 때, VIP 등급이 GOLD 이상이었을 때만 문이 정상적으로 열린다. \n",
    "# 단, 각 등급 아래에는, 필수적으로 직속 그 아래 등급 사람이 존재한다. 즉, Silver 이상 계급은 전부 자손 노드를 가지고 있게 된다.\n",
    "# 그러하였을 때, 사람들의 출입을 통제해보라.\n",
    "T = LinkedTree()\n",
    "vip_diamond = T._add_root('진도준 회장')\n",
    "vip_platinum_one = T._add_child(vip_diamond, '진양철 전회장')\n",
    "vip_platinum_two = T._add_child(vip_diamond, '이필옥 여사')\n",
    "\n",
    "vip_gold_one = T._add_child(vip_platinum_one, '진영기 부회장')\n",
    "vip_gold_two = T._add_child(vip_platinum_one, '진동기 사장')\n",
    "\n",
    "vip_gold_three = T._add_child(vip_platinum_two, '진화영 대표')\n",
    "vip_gold_four = T._add_child(vip_platinum_two, '진윤기 서자 ')\n",
    "\n",
    "vip_silver_one = T._add_child(vip_gold_one, '손정래')\n",
    "vip_silver_two = T._add_child(vip_gold_one, '진성준')\n",
    "vip_silver_three = T._add_child(vip_gold_one, '모현민')\n",
    "\n",
    "vip_silver_four = T._add_child(vip_gold_two, '유지나')\n",
    "vip_silver_five = T._add_child(vip_gold_two, '진예준')\n",
    "\n",
    "vip_silver_six = T._add_child(vip_gold_three, '최창제')\n",
    "\n",
    "vip_silver_seven = T._add_child(vip_gold_four, '이해인')\n",
    "vip_silver_eight = T._add_child(vip_gold_four, '진형준')\n",
    "\n",
    "\n",
    "for node in T.postorder():\n",
    "    if T.depth(node)<3:\n",
    "        print(\"삐빅, \",node.element(),\"님 파티에 오신 것을 환영합니다.\")\n",
    "    else:\n",
    "        print(\"삐빅, \",node.element(),\"님은 파티에 참여하실 수 없습니다.\")\n",
    "    \n",
    "\n",
    "\n",
    "# Write your test case setup and results\n",
    "# 테스트의 목적: postorder가 잘 작동되는지 파악하고, depth 메서드가 정상작동하는지 판단할 것이다.\n",
    "# 테스트에서 기대되는 결과값: \n",
    "\"\"\"\n",
    "삐빅,  손정래 님은 파티에 참여하실 수 없습니다.\n",
    "삐빅,  진성준 님은 파티에 참여하실 수 없습니다.\n",
    "삐빅,  모현민 님은 파티에 참여하실 수 없습니다.\n",
    "삐빅,  진영기 부회장 님 파티에 오신 것을 환영합니다.\n",
    "삐빅,  유지나 님은 파티에 참여하실 수 없습니다.\n",
    "삐빅,  진예준 님은 파티에 참여하실 수 없습니다.\n",
    "삐빅,  진동기 사장 님 파티에 오신 것을 환영합니다.\n",
    "삐빅,  진양철 전회장 님 파티에 오신 것을 환영합니다.\n",
    "삐빅,  최창제 님은 파티에 참여하실 수 없습니다.\n",
    "삐빅,  진화영 대표 님 파티에 오신 것을 환영합니다.\n",
    "삐빅,  이해인 님은 파티에 참여하실 수 없습니다.\n",
    "삐빅,  진형준 님은 파티에 참여하실 수 없습니다.\n",
    "삐빅,  진윤기 서자  님 파티에 오신 것을 환영합니다.\n",
    "삐빅,  이필옥 여사 님 파티에 오신 것을 환영합니다.\n",
    "삐빅,  진도준 회장 님 파티에 오신 것을 환영합니다.\n",
    "\"\"\""
   ]
  },
  {
   "cell_type": "markdown",
   "id": "ae4cf37d-c5fc-438a-943b-82b84249289b",
   "metadata": {},
   "source": [
    "# Submission\n",
    "\n",
    "Submit three files: `linked_tree.py`, `tree.py`, and `hw2.ipynb`.\n",
    "\n",
    "- `linked_tree.py` should include the `_add_root`, `_add_child`, `_replace`, `_delete` methods, and your comments explaining all the methods.\n",
    "\n",
    "- `tree.py` should include the Tree class with the `levelorder()` method. Make sure to include comments explaining your code.\n",
    "\n",
    "- In this notebook file `hw2.ipynb`, write your own test cases to test your implementation with various tree structures and various examples to ensure its correctness. "
   ]
  }
 ],
 "metadata": {
  "kernelspec": {
   "display_name": "Python 3 (ipykernel)",
   "language": "python",
   "name": "python3"
  },
  "language_info": {
   "codemirror_mode": {
    "name": "ipython",
    "version": 3
   },
   "file_extension": ".py",
   "mimetype": "text/x-python",
   "name": "python",
   "nbconvert_exporter": "python",
   "pygments_lexer": "ipython3",
   "version": "3.8.16"
  }
 },
 "nbformat": 4,
 "nbformat_minor": 5
}
